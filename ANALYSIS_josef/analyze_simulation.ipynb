{
 "cells": [
  {
   "cell_type": "code",
   "execution_count": 1,
   "metadata": {},
   "outputs": [
    {
     "name": "stdout",
     "output_type": "stream",
     "text": [
      "/media/hjp/05aba9a7-0e74-4e54-9bc9-5f11b9c4c757/GarmentCode/GarmentCode\n"
     ]
    }
   ],
   "source": [
    "cd .."
   ]
  },
  {
   "cell_type": "code",
   "execution_count": 20,
   "metadata": {},
   "outputs": [
    {
     "data": {
      "text/plain": [
       "'/media/hjp/05aba9a7-0e74-4e54-9bc9-5f11b9c4c757/GarmentCode/GarmentCode'"
      ]
     },
     "execution_count": 20,
     "metadata": {},
     "output_type": "execute_result"
    }
   ],
   "source": [
    "pwd"
   ]
  },
  {
   "cell_type": "code",
   "execution_count": 38,
   "metadata": {},
   "outputs": [],
   "source": [
    "## Memo \n",
    "_ = \"\"\"\n",
    "\n",
    "sim_props.yaml contains settings for simulation.\n",
    "\n",
    "each top-level section contains \"config\" and \"stats\".\n",
    "ex :\n",
    "    sim :\n",
    "        config :\n",
    "            ...\n",
    "        stats :\n",
    "            ...\n",
    "    render :\n",
    "        config :\n",
    "            ...\n",
    "        stats :\n",
    "            ...\n",
    "\n",
    "\"\"\""
   ]
  },
  {
   "cell_type": "markdown",
   "metadata": {},
   "source": []
  },
  {
   "cell_type": "code",
   "execution_count": 3,
   "metadata": {},
   "outputs": [
    {
     "name": "stdout",
     "output_type": "stream",
     "text": [
      "Warp 1.0.0-beta.6 initialized:\n",
      "   CUDA Toolkit: 12.1, Driver: 12.2\n",
      "   Devices:\n",
      "     \"cpu\"    | x86_64\n",
      "     \"cuda:0\" | NVIDIA GeForce RTX 4090 (sm_89)\n",
      "     \"cuda:1\" | NVIDIA GeForce RTX 4090 (sm_89)\n",
      "     \"cuda:2\" | NVIDIA GeForce RTX 4090 (sm_89)\n",
      "     \"cuda:3\" | NVIDIA GeForce RTX 4090 (sm_89)\n",
      "   Kernel cache: /home/hjp/.cache/warp/1.0.0-beta.6\n"
     ]
    }
   ],
   "source": [
    "import os\n",
    "import argparse\n",
    "from pathlib import Path\n",
    "\n",
    "from pygarment.meshgen.boxmeshgen import BoxMesh\n",
    "from pygarment.meshgen.simulation import run_sim\n",
    "import pygarment.data_config as data_config\n",
    "from pygarment.meshgen.sim_config import PathCofig"
   ]
  },
  {
   "cell_type": "code",
   "execution_count": 32,
   "metadata": {},
   "outputs": [],
   "source": [
    "from typing import NamedTuple\n",
    "from pprint import pprint"
   ]
  },
  {
   "cell_type": "code",
   "execution_count": 24,
   "metadata": {},
   "outputs": [
    {
     "data": {
      "text/plain": [
       "'./assets/Patterns/shirt_mean_specification.json'"
      ]
     },
     "execution_count": 24,
     "metadata": {},
     "output_type": "execute_result"
    }
   ],
   "source": [
    "# Fake Argparse\n",
    "\n",
    "class Args(NamedTuple):\n",
    "    pattern_spec: str\n",
    "    sim_config: str\n",
    "\n",
    "args = Args(\n",
    "    pattern_spec= './assets/Patterns/shirt_mean_specification.json', \n",
    "    sim_config=   './assets/Sim_props/default_sim_props.yaml'\n",
    ")\n",
    "args.pattern_spec\n"
   ]
  },
  {
   "cell_type": "code",
   "execution_count": 43,
   "metadata": {},
   "outputs": [
    {
     "name": "stdout",
     "output_type": "stream",
     "text": [
      "assets/Patterns/shirt_mean_specification.json\n",
      "shirt_mean\n"
     ]
    }
   ],
   "source": [
    "spec_path = Path(args.pattern_spec)\n",
    "garment_name, _, _ = spec_path.stem.rpartition('_')\n",
    "\n",
    "print(spec_path)\n",
    "print(garment_name)"
   ]
  },
  {
   "cell_type": "code",
   "execution_count": 39,
   "metadata": {},
   "outputs": [],
   "source": [
    "# Read Simulation Properties and add statsistical info placeholders\n",
    "\n",
    "props = data_config.Properties(args.sim_config) \n",
    "props.set_section_stats('sim', fails={}, sim_time={}, spf={}, fin_frame={}, body_collisions={}, self_collisions={})\n",
    "props.set_section_stats('render', render_time={})"
   ]
  },
  {
   "cell_type": "code",
   "execution_count": 46,
   "metadata": {},
   "outputs": [
    {
     "data": {
      "text/plain": [
       "{'output': './Logs/',\n",
       " 'datasets_path': '',\n",
       " 'datasets_sim': '',\n",
       " 'sim_configs_path': './assets/Sim_props',\n",
       " 'bodies_default_path': './assets/bodies',\n",
       " 'body_samples_path': ''}"
      ]
     },
     "execution_count": 46,
     "metadata": {},
     "output_type": "execute_result"
    }
   ],
   "source": [
    "# Read System Properties\n",
    "\n",
    "sys_props = data_config.Properties('./system.json')\n",
    "\n",
    "sys_props.properties"
   ]
  },
  {
   "cell_type": "code",
   "execution_count": 48,
   "metadata": {},
   "outputs": [],
   "source": [
    "paths = PathCofig(\n",
    "    in_element_path=spec_path.parent,  \n",
    "    out_path=sys_props['output'], \n",
    "    in_name=garment_name,\n",
    "    body_name='mean_all',    # 'f_smpl_average_A40'\n",
    "    smpl_body=False,   # NOTE: depends on chosen body model\n",
    "    add_timestamp=True\n",
    ")"
   ]
  },
  {
   "cell_type": "code",
   "execution_count": 56,
   "metadata": {},
   "outputs": [
    {
     "data": {
      "text/plain": [
       "PosixPath('assets/Patterns/shirt_mean_specification.json')"
      ]
     },
     "execution_count": 56,
     "metadata": {},
     "output_type": "execute_result"
    }
   ],
   "source": []
  },
  {
   "cell_type": "code",
   "execution_count": null,
   "metadata": {},
   "outputs": [],
   "source": []
  }
 ],
 "metadata": {
  "kernelspec": {
   "display_name": "GarmentCode",
   "language": "python",
   "name": "python3"
  },
  "language_info": {
   "codemirror_mode": {
    "name": "ipython",
    "version": 3
   },
   "file_extension": ".py",
   "mimetype": "text/x-python",
   "name": "python",
   "nbconvert_exporter": "python",
   "pygments_lexer": "ipython3",
   "version": "3.9.20"
  }
 },
 "nbformat": 4,
 "nbformat_minor": 2
}
