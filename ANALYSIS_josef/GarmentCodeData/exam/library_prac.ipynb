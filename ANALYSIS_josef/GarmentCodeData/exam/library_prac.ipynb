{
 "cells": [
  {
   "cell_type": "code",
   "execution_count": 6,
   "metadata": {},
   "outputs": [
    {
     "name": "stdout",
     "output_type": "stream",
     "text": [
      "current Directoey /Users/seph/Desktop/고려대_인턴_연구실/clo_json_practice\n",
      "Updated path ['/Users/seph/opt/anaconda3/envs/comvi/lib/python39.zip', '/Users/seph/opt/anaconda3/envs/comvi/lib/python3.9', '/Users/seph/opt/anaconda3/envs/comvi/lib/python3.9/lib-dynload', '', '/Users/seph/opt/anaconda3/envs/comvi/lib/python3.9/site-packages', '/Users/seph/opt/anaconda3/envs/comvi/lib/python3.9/site-packages/setuptools/_vendor', '/Users/seph/Desktop/고려대_인턴_연구실', '/Users/seph/Desktop/고려대_인턴_연구실']\n",
      "Removed /Users/seph/Desktop/고려대_인턴_연구실 from sys.path\n",
      "['/Users/seph/opt/anaconda3/envs/comvi/lib/python39.zip', '/Users/seph/opt/anaconda3/envs/comvi/lib/python3.9', '/Users/seph/opt/anaconda3/envs/comvi/lib/python3.9/lib-dynload', '', '/Users/seph/opt/anaconda3/envs/comvi/lib/python3.9/site-packages', '/Users/seph/opt/anaconda3/envs/comvi/lib/python3.9/site-packages/setuptools/_vendor', '/Users/seph/Desktop/고려대_인턴_연구실']\n"
     ]
    }
   ],
   "source": [
    "import os, sys\n",
    "\n",
    "print(\"current Directoey\", os.getcwd())\n",
    "parent_dir = os.path.dirname(os.getcwd())\n",
    "sys.path.append(parent_dir)\n",
    "print(\"Updated path\", sys.path)\n",
    "\n",
    "if parent_dir in sys.path:\n",
    "    sys.path.remove(parent_dir)\n",
    "    print(f\"Removed {parent_dir} from sys.path\")\n",
    "\n",
    "print(sys.path)"
   ]
  },
  {
   "cell_type": "code",
   "execution_count": 8,
   "metadata": {},
   "outputs": [
    {
     "name": "stdout",
     "output_type": "stream",
     "text": [
      "Text Files: ['practice_1_1.json', 'practice_2.json', 'practice_3.json', 'practice_1_3_paste.json', 'practice_4.json', 'practice_8.json', 'practice_5.json', 'practice_6.json', 'practice_1_5.json', 'practice_1_4.json', 'practice_7.json', 'practice_1_3.json', 'exportpattern22.json', 'practice_1_2.json', 'practice_1.json']\n"
     ]
    }
   ],
   "source": [
    "from glob import glob\n",
    "\n",
    "# 현재 디렉토리에서 모든 '.txt' 파일 검색\n",
    "txt_files = glob('*.json')\n",
    "print(f\"Text Files:\", txt_files)"
   ]
  },
  {
   "cell_type": "code",
   "execution_count": 10,
   "metadata": {},
   "outputs": [
    {
     "name": "stdout",
     "output_type": "stream",
     "text": [
      "{'age': 25, 'name': 'Alice', 'skills': ['Python', 'Machine Learning']}\n"
     ]
    }
   ],
   "source": [
    "from pprint import pprint\n",
    "\n",
    "data = {\"name\": \"Alice\", \"age\": 25, \"skills\": [\"Python\", \"Machine Learning\"]}\n",
    "pprint(data)"
   ]
  },
  {
   "cell_type": "code",
   "execution_count": null,
   "metadata": {},
   "outputs": [],
   "source": [
    "from PIL import Image\n",
    "import torch\n",
    "from torchvision.transforms import ToTensor\n",
    "img = Image.open('json_analysis.png')\n",
    "# img.show()\n",
    "\n",
    "# img to tensor\n",
    "img_tensor = ToTensor()(img)\n",
    "print(img_tensor.shape)\n"
   ]
  },
  {
   "cell_type": "code",
   "execution_count": 3,
   "metadata": {},
   "outputs": [
    {
     "ename": "ModuleNotFoundError",
     "evalue": "No module named 'tqdm'",
     "output_type": "error",
     "traceback": [
      "\u001b[0;31m---------------------------------------------------------------------------\u001b[0m",
      "\u001b[0;31mModuleNotFoundError\u001b[0m                       Traceback (most recent call last)",
      "Cell \u001b[0;32mIn[3], line 1\u001b[0m\n\u001b[0;32m----> 1\u001b[0m \u001b[38;5;28;01mimport\u001b[39;00m \u001b[38;5;21;01mtqdm\u001b[39;00m\n\u001b[1;32m      2\u001b[0m \u001b[38;5;28;01mimport\u001b[39;00m \u001b[38;5;21;01mtime\u001b[39;00m\n\u001b[1;32m      4\u001b[0m \u001b[38;5;28;01mfor\u001b[39;00m i \u001b[38;5;129;01min\u001b[39;00m tqdm(\u001b[38;5;28mrange\u001b[39m(\u001b[38;5;241m10\u001b[39m)):\n",
      "\u001b[0;31mModuleNotFoundError\u001b[0m: No module named 'tqdm'"
     ]
    }
   ],
   "source": [
    "import tqdm\n",
    "import time\n",
    "\n",
    "for i in tqdm(range(10)):\n",
    "    time.sleep(0.1)"
   ]
  },
  {
   "cell_type": "code",
   "execution_count": null,
   "metadata": {},
   "outputs": [],
   "source": []
  },
  {
   "cell_type": "code",
   "execution_count": null,
   "metadata": {},
   "outputs": [],
   "source": []
  },
  {
   "cell_type": "code",
   "execution_count": null,
   "metadata": {},
   "outputs": [],
   "source": []
  },
  {
   "cell_type": "code",
   "execution_count": null,
   "metadata": {},
   "outputs": [],
   "source": []
  },
  {
   "cell_type": "code",
   "execution_count": null,
   "metadata": {},
   "outputs": [],
   "source": []
  }
 ],
 "metadata": {
  "kernelspec": {
   "display_name": "base",
   "language": "python",
   "name": "python3"
  },
  "language_info": {
   "codemirror_mode": {
    "name": "ipython",
    "version": 3
   },
   "file_extension": ".py",
   "mimetype": "text/x-python",
   "name": "python",
   "nbconvert_exporter": "python",
   "pygments_lexer": "ipython3",
   "version": "3.9.15"
  }
 },
 "nbformat": 4,
 "nbformat_minor": 2
}
