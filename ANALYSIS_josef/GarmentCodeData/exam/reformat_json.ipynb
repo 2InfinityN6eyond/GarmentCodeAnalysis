{
 "cells": [
  {
   "cell_type": "code",
   "execution_count": 7,
   "metadata": {},
   "outputs": [
    {
     "data": {
      "text/plain": [
       "['./practice_1_1.json',\n",
       " './practice_2.json',\n",
       " './practice_3.json',\n",
       " './practice_4.json',\n",
       " './practice_8.json',\n",
       " './practice_5.json',\n",
       " './practice_6.json',\n",
       " './practice_1_5.json',\n",
       " './practice_1_4.json',\n",
       " './practice_7.json',\n",
       " './practice_1_3.json',\n",
       " './exportpattern22.json',\n",
       " './practice_1_2.json',\n",
       " './practice_1.json']"
      ]
     },
     "execution_count": 7,
     "metadata": {},
     "output_type": "execute_result"
    }
   ],
   "source": [
    "import json\n",
    "from pprint import pprint\n",
    "import os\n",
    "from glob import glob\n",
    "\n",
    "json_path_list = glob(\"./*.json\")\n",
    "json_path_list"
   ]
  },
  {
   "cell_type": "code",
   "execution_count": 8,
   "metadata": {},
   "outputs": [],
   "source": [
    "JSON_FILE_IDX = 7\n",
    "\n",
    "with open(json_path_list[JSON_FILE_IDX], \"r\") as f :\n",
    "    data = json.load(f)\n",
    "\n",
    "with open(json_path_list[JSON_FILE_IDX], \"w\") as f :\n",
    "    data = json.dump(data, f, indent=4) # 4칸 들여쓰기\n"
   ]
  },
  {
   "cell_type": "code",
   "execution_count": 13,
   "metadata": {},
   "outputs": [
    {
     "data": {
      "text/plain": [
       "0.08339299999999994"
      ]
     },
     "execution_count": 13,
     "metadata": {},
     "output_type": "execute_result"
    }
   ],
   "source": [
    "0.776295-0.692902"
   ]
  },
  {
   "cell_type": "code",
   "execution_count": 12,
   "metadata": {},
   "outputs": [
    {
     "data": {
      "text/plain": [
       "0.083395"
      ]
     },
     "execution_count": 12,
     "metadata": {},
     "output_type": "execute_result"
    }
   ],
   "source": [
    "0.327588-0.244193\n"
   ]
  },
  {
   "cell_type": "code",
   "execution_count": 14,
   "metadata": {},
   "outputs": [
    {
     "data": {
      "text/plain": [
       "0.11223800000000006"
      ]
     },
     "execution_count": 14,
     "metadata": {},
     "output_type": "execute_result"
    }
   ],
   "source": [
    "0.888533 - 0.776295"
   ]
  },
  {
   "cell_type": "code",
   "execution_count": 16,
   "metadata": {},
   "outputs": [
    {
     "data": {
      "text/plain": [
       "1.3458923410837857"
      ]
     },
     "execution_count": 16,
     "metadata": {},
     "output_type": "execute_result"
    }
   ],
   "source": [
    "0.11223800000000006 / 0.08339299999999994"
   ]
  },
  {
   "cell_type": "code",
   "execution_count": 15,
   "metadata": {},
   "outputs": [
    {
     "data": {
      "text/plain": [
       "1.3459657701711492"
      ]
     },
     "execution_count": 15,
     "metadata": {},
     "output_type": "execute_result"
    }
   ],
   "source": [
    "110.1 / 81.8"
   ]
  }
 ],
 "metadata": {
  "kernelspec": {
   "display_name": "base",
   "language": "python",
   "name": "python3"
  },
  "language_info": {
   "codemirror_mode": {
    "name": "ipython",
    "version": 3
   },
   "file_extension": ".py",
   "mimetype": "text/x-python",
   "name": "python",
   "nbconvert_exporter": "python",
   "pygments_lexer": "ipython3",
   "version": "3.9.15"
  }
 },
 "nbformat": 4,
 "nbformat_minor": 2
}
