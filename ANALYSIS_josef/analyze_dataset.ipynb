{
 "cells": [
  {
   "cell_type": "code",
   "execution_count": 1,
   "metadata": {},
   "outputs": [],
   "source": [
    "import os, sys\n",
    "sys.path.append(os.path.dirname(os.getcwd()))\n",
    "from glob import glob\n",
    "import math\n",
    "from pprint import pprint\n",
    "import torch\n",
    "\n",
    "from tqdm import tqdm\n",
    "import pygarment as pyg\n",
    "import numpy as np\n",
    "import matplotlib.pyplot as plt\n",
    "from PIL import Image\n",
    "import time\n",
    "\n",
    "from tqdm import tqdm\n",
    "\n",
    "import trimesh\n",
    "from ANALYSIS.analysis_utils import (\n",
    "    plot_panel_info,\n",
    "    visualize_meshes_plotly,\n",
    "    v_id_map\n",
    ")\n",
    "\n",
    "PROJECT_ROOT_PATH = \"/media/hjp/05aba9a7-0e74-4e54-9bc9-5f11b9c4c757/GarmentCodeData/\"\n",
    "GARMENT_ROOT_PATH = os.path.join(PROJECT_ROOT_PATH, \"GarmentCodeData_v2\")\n",
    "BODY_ROOT_PATH = os.path.join(PROJECT_ROOT_PATH, \"body_mesh\")\n",
    "MEAN_ALL_BODY_PATH = os.path.join(PROJECT_ROOT_PATH, \"neutral_body/mean_all.obj\")\n",
    "    \n",
    "default_body_mesh = trimesh.load(MEAN_ALL_BODY_PATH)\n",
    "BODY_TYPE = \"default_body\"\n",
    "garment_path_list = sorted(list(filter(\n",
    "    os.path.isdir,\n",
    "    glob(os.path.join(GARMENT_ROOT_PATH, \"*\", BODY_TYPE, \"*\"))\n",
    ")))"
   ]
  },
  {
   "cell_type": "code",
   "execution_count": 2,
   "metadata": {},
   "outputs": [
    {
     "name": "stderr",
     "output_type": "stream",
     "text": [
      "100%|██████████| 132670/132670 [03:10<00:00, 694.92it/s]\n"
     ]
    }
   ],
   "source": [
    "svg_path_list = []\n",
    "for garment_path in tqdm(garment_path_list):\n",
    "    garment_id = os.path.basename(garment_path)\n",
    "\n",
    "    SPEC_FILE_PATH = os.path.join(garment_path, f\"{garment_id}_specification.json\")\n",
    "    pattern = pyg.pattern.wrappers.VisPattern(SPEC_FILE_PATH)\n",
    "\n",
    "    drawn_pattern_list = list(map(\n",
    "        lambda pannel_name : pattern._draw_a_panel(\n",
    "            pannel_name, apply_transform=False, fill=True\n",
    "        ),\n",
    "        pattern.panel_order()\n",
    "    ))\n",
    "    svg_path_list.extend(list(map(\n",
    "        lambda x : x[0],\n",
    "        drawn_pattern_list)\n",
    "    ))"
   ]
  },
  {
   "cell_type": "code",
   "execution_count": 149,
   "metadata": {},
   "outputs": [
    {
     "name": "stderr",
     "output_type": "stream",
     "text": [
      "100%|██████████| 132670/132670 [02:42<00:00, 814.23it/s]\n"
     ]
    },
    {
     "data": {
      "text/plain": [
       "16802"
      ]
     },
     "execution_count": 149,
     "metadata": {},
     "output_type": "execute_result"
    }
   ],
   "source": [
    "garment_with_large_arc_list = []\n",
    "for garment_path in tqdm(garment_path_list):\n",
    "    garment_id = os.path.basename(garment_path)\n",
    "    SPEC_FILE_PATH = os.path.join(garment_path, f\"{garment_id}_specification.json\")\n",
    "    pattern = pyg.pattern.wrappers.VisPattern(SPEC_FILE_PATH)\n",
    "    \n",
    "    drawn_pattern_list = list(map(\n",
    "        lambda pannel_name : pattern._draw_a_panel(\n",
    "            pannel_name, apply_transform=False, fill=True\n",
    "        ),\n",
    "        pattern.panel_order()\n",
    "    ))\n",
    "    \n",
    "    has_large_arc = False\n",
    "    for path in drawn_pattern_list:\n",
    "        for edge in path[0]:\n",
    "            if type(edge).__name__ == \"Arc\" and edge.large_arc:\n",
    "                has_large_arc = True\n",
    "                break\n",
    "    if has_large_arc:\n",
    "        garment_with_large_arc_list.append(garment_path)\n",
    "len(garment_with_large_arc_list)"
   ]
  },
  {
   "cell_type": "code",
   "execution_count": 148,
   "metadata": {},
   "outputs": [
    {
     "name": "stderr",
     "output_type": "stream",
     "text": [
      "100%|██████████| 132670/132670 [02:49<00:00, 784.92it/s]\n"
     ]
    },
    {
     "data": {
      "text/plain": [
       "102243"
      ]
     },
     "execution_count": 148,
     "metadata": {},
     "output_type": "execute_result"
    }
   ],
   "source": [
    "garment_with_arc_list = []\n",
    "for garment_path in tqdm(garment_path_list):\n",
    "    garment_id = os.path.basename(garment_path)\n",
    "    SPEC_FILE_PATH = os.path.join(garment_path, f\"{garment_id}_specification.json\")\n",
    "    pattern = pyg.pattern.wrappers.VisPattern(SPEC_FILE_PATH)\n",
    "    \n",
    "    drawn_pattern_list = list(map(\n",
    "        lambda pannel_name : pattern._draw_a_panel(\n",
    "            pannel_name, apply_transform=False, fill=True\n",
    "        ),\n",
    "        pattern.panel_order()\n",
    "    ))\n",
    "    \n",
    "    has_arc = False\n",
    "    for path in drawn_pattern_list:\n",
    "        \n",
    "        for edge in path[0]:\n",
    "        \n",
    "            if type(edge).__name__ == \"Arc\" :\n",
    "                has_arc = True\n",
    "                break\n",
    "    if has_arc:\n",
    "        garment_with_arc_list.append(garment_path)\n",
    "        \n",
    "len(garment_with_arc_list)"
   ]
  },
  {
   "cell_type": "code",
   "execution_count": 151,
   "metadata": {},
   "outputs": [],
   "source": [
    "garment_without_arc_list = list(set(garment_path_list) - set(garment_with_arc_list))\n"
   ]
  },
  {
   "cell_type": "code",
   "execution_count": 153,
   "metadata": {},
   "outputs": [
    {
     "data": {
      "text/plain": [
       "30427"
      ]
     },
     "execution_count": 153,
     "metadata": {},
     "output_type": "execute_result"
    }
   ],
   "source": [
    "len(garment_without_arc_list)"
   ]
  },
  {
   "cell_type": "code",
   "execution_count": 155,
   "metadata": {},
   "outputs": [],
   "source": [
    "import json\n",
    "with open(\"garment_without_arc_list.json\", \"w\") as f:\n",
    "    json.dump(garment_without_arc_list, f)\n"
   ]
  },
  {
   "cell_type": "markdown",
   "metadata": {},
   "source": []
  }
 ],
 "metadata": {
  "kernelspec": {
   "display_name": "GarmentCode",
   "language": "python",
   "name": "python3"
  },
  "language_info": {
   "codemirror_mode": {
    "name": "ipython",
    "version": 3
   },
   "file_extension": ".py",
   "mimetype": "text/x-python",
   "name": "python",
   "nbconvert_exporter": "python",
   "pygments_lexer": "ipython3",
   "version": "3.9.20"
  }
 },
 "nbformat": 4,
 "nbformat_minor": 2
}
